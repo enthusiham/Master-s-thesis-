{
 "cells": [
  {
   "cell_type": "code",
   "execution_count": 1,
   "id": "e573fd32",
   "metadata": {},
   "outputs": [],
   "source": [
    "import json\n",
    "import pandas as pd\n",
    "import numpy as np\n",
    "pd.set_option(\"display.max_columns\", None)"
   ]
  },
  {
   "cell_type": "code",
   "execution_count": 2,
   "id": "1a776f76",
   "metadata": {},
   "outputs": [],
   "source": [
    "df_main = pd.read_csv(\"df_main5.csv\")\n",
    "df_refer = pd.read_csv(\"df_refer3.csv\")"
   ]
  },
  {
   "cell_type": "code",
   "execution_count": 4,
   "id": "a558f573",
   "metadata": {},
   "outputs": [
    {
     "name": "stdout",
     "output_type": "stream",
     "text": [
      "showing info https://raw.githubusercontent.com/nltk/nltk_data/gh-pages/index.xml\n"
     ]
    },
    {
     "data": {
      "text/plain": [
       "True"
      ]
     },
     "execution_count": 4,
     "metadata": {},
     "output_type": "execute_result"
    }
   ],
   "source": [
    "import nltk\n",
    "nltk.download()"
   ]
  },
  {
   "cell_type": "code",
   "execution_count": 5,
   "id": "541727bc",
   "metadata": {},
   "outputs": [],
   "source": [
    "from nltk.sentiment import SentimentIntensityAnalyzer\n",
    "sia = SentimentIntensityAnalyzer()\n",
    "\n",
    "sentiment_score = []\n",
    "for index, row in df_main.iterrows():\n",
    "    text = row['abstract']\n",
    "    sentiment = sia.polarity_scores(text)\n",
    "    sentiment_score.append(sentiment)\n",
    "    \n",
    "df_main['sentiment'] = sentiment_score"
   ]
  },
  {
   "cell_type": "code",
   "execution_count": 10,
   "id": "f3e39741",
   "metadata": {},
   "outputs": [],
   "source": [
    "sent_neg =[]\n",
    "for x in df_main['sentiment']:\n",
    "    negative = x['neg']\n",
    "    sent_neg.append(negative)\n",
    "\n",
    "df_main['negative'] = sent_neg"
   ]
  },
  {
   "cell_type": "code",
   "execution_count": 12,
   "id": "5ed9c669",
   "metadata": {},
   "outputs": [],
   "source": [
    "sent_pos =[]\n",
    "for x in df_main['sentiment']:\n",
    "    positive = x['pos']\n",
    "    sent_pos.append(positive)\n",
    "\n",
    "df_main['positive'] = sent_pos"
   ]
  },
  {
   "cell_type": "code",
   "execution_count": 14,
   "id": "1fbcc1d1",
   "metadata": {},
   "outputs": [],
   "source": [
    "df_main.drop(['BoW_Cos_x',\t'BoW_Euc_x',\t'BoW_Jac_x',\t'tfidf_Cos_x',\t\n",
    "             'tfidf_Euc_x',\t'tfidf_Jac_x',\t'w2v_Cos_x',\t'BoW_Cos_y',\t'BoW_Euc_y',\t\n",
    "             'BoW_Jac_y',\t'tfidf_Cos_y',\t'tfidf_Euc_y',\t'tfidf_Jac_y',\t'w2v_Cos_y',\n",
    "             'BoW_Cos',\t'BoW_Euc',\t'BoW_Jac',\t'tfidf_Cos',\t'tfidf_Euc',\t'tfidf_Jac',\n",
    "             'w2v_Cos_x.1',\t'w2v_Cos_y.1'], inplace = True, axis=1)"
   ]
  },
  {
   "cell_type": "code",
   "execution_count": 20,
   "id": "8001a6ca",
   "metadata": {},
   "outputs": [],
   "source": [
    "import matplotlib.pyplot as plt"
   ]
  },
  {
   "cell_type": "code",
   "execution_count": 22,
   "id": "33c12b7e",
   "metadata": {},
   "outputs": [
    {
     "data": {
      "text/html": [
       "<div>\n",
       "<style scoped>\n",
       "    .dataframe tbody tr th:only-of-type {\n",
       "        vertical-align: middle;\n",
       "    }\n",
       "\n",
       "    .dataframe tbody tr th {\n",
       "        vertical-align: top;\n",
       "    }\n",
       "\n",
       "    .dataframe thead th {\n",
       "        text-align: right;\n",
       "    }\n",
       "</style>\n",
       "<table border=\"1\" class=\"dataframe\">\n",
       "  <thead>\n",
       "    <tr style=\"text-align: right;\">\n",
       "      <th></th>\n",
       "      <th>Unnamed: 0</th>\n",
       "      <th>_id</th>\n",
       "      <th>abstract</th>\n",
       "      <th>authors</th>\n",
       "      <th>n_citation</th>\n",
       "      <th>references</th>\n",
       "      <th>title</th>\n",
       "      <th>venue</th>\n",
       "      <th>year</th>\n",
       "      <th>id</th>\n",
       "      <th>ref_index</th>\n",
       "      <th>ref_abstract</th>\n",
       "      <th>ref_authors</th>\n",
       "      <th>ref_n_citation</th>\n",
       "      <th>ref_references</th>\n",
       "      <th>ref_title</th>\n",
       "      <th>ref_venue</th>\n",
       "      <th>ref_year</th>\n",
       "      <th>BoW_Jac</th>\n",
       "      <th>BoW_Cos</th>\n",
       "      <th>BoW_Euc</th>\n",
       "      <th>tfidf_Jac</th>\n",
       "      <th>tfidf_Cos</th>\n",
       "      <th>tfidf_Euc</th>\n",
       "      <th>w2v_Cos_x</th>\n",
       "      <th>sum_similarity_weight</th>\n",
       "      <th>weightvalue</th>\n",
       "      <th>weighted_avg_ref_citations</th>\n",
       "    </tr>\n",
       "  </thead>\n",
       "  <tbody>\n",
       "    <tr>\n",
       "      <th>0</th>\n",
       "      <td>0</td>\n",
       "      <td>NaN</td>\n",
       "      <td>This paper presents the design and implementat...</td>\n",
       "      <td>['Sergio R. Geninatti', 'José Ignacio Benavide...</td>\n",
       "      <td>0</td>\n",
       "      <td>6b19b1e6-81c5-4039-8a70-f3a2797f5447</td>\n",
       "      <td>Concurrent calculations on reconfigurable logi...</td>\n",
       "      <td>International Journal of Reconfigurable Computing</td>\n",
       "      <td>2010</td>\n",
       "      <td>9cee0c22-b065-4e23-925d-68c1cfc75dbe</td>\n",
       "      <td>NaN</td>\n",
       "      <td>The combination of hardware acceleration and f...</td>\n",
       "      <td>['Heather Quinn', 'Laurie A. Smith King', 'Mir...</td>\n",
       "      <td>50</td>\n",
       "      <td>['115b9e24-0791-4251-8777-24c38fea952f', '430c...</td>\n",
       "      <td>Runtime assignment of reconfigurable hardware ...</td>\n",
       "      <td>field programmable custom computing machines</td>\n",
       "      <td>2003</td>\n",
       "      <td>30.00</td>\n",
       "      <td>50.53</td>\n",
       "      <td>-22.8537</td>\n",
       "      <td>95.65</td>\n",
       "      <td>35.83</td>\n",
       "      <td>-13.29</td>\n",
       "      <td>97.833942</td>\n",
       "      <td>386.915432</td>\n",
       "      <td>4891.697105</td>\n",
       "      <td>12.642807</td>\n",
       "    </tr>\n",
       "    <tr>\n",
       "      <th>1</th>\n",
       "      <td>1</td>\n",
       "      <td>NaN</td>\n",
       "      <td>This paper presents the design and implementat...</td>\n",
       "      <td>['Sergio R. Geninatti', 'José Ignacio Benavide...</td>\n",
       "      <td>0</td>\n",
       "      <td>8823b473-17c0-4f1f-a084-f86ae4b29e63</td>\n",
       "      <td>Concurrent calculations on reconfigurable logi...</td>\n",
       "      <td>International Journal of Reconfigurable Computing</td>\n",
       "      <td>2010</td>\n",
       "      <td>9cee0c22-b065-4e23-925d-68c1cfc75dbe</td>\n",
       "      <td>NaN</td>\n",
       "      <td>This work presents a new scene change detectio...</td>\n",
       "      <td>['Edmundo Saez', 'José Ignacio Benavides', 'Ni...</td>\n",
       "      <td>12</td>\n",
       "      <td>['181e1f31-1580-454c-bdb8-7e46839d453d', '53fe...</td>\n",
       "      <td>Reliable real time scene change detection in M...</td>\n",
       "      <td>international conference on multimedia and expo</td>\n",
       "      <td>2004</td>\n",
       "      <td>37.50</td>\n",
       "      <td>40.34</td>\n",
       "      <td>-15.1555</td>\n",
       "      <td>93.75</td>\n",
       "      <td>27.34</td>\n",
       "      <td>-20.55</td>\n",
       "      <td>95.954598</td>\n",
       "      <td>386.915432</td>\n",
       "      <td>1151.455178</td>\n",
       "      <td>2.975987</td>\n",
       "    </tr>\n",
       "    <tr>\n",
       "      <th>2</th>\n",
       "      <td>2</td>\n",
       "      <td>NaN</td>\n",
       "      <td>This paper presents the design and implementat...</td>\n",
       "      <td>['Sergio R. Geninatti', 'José Ignacio Benavide...</td>\n",
       "      <td>0</td>\n",
       "      <td>b9e545cf-0862-4ad2-873c-92740caca989</td>\n",
       "      <td>Concurrent calculations on reconfigurable logi...</td>\n",
       "      <td>International Journal of Reconfigurable Computing</td>\n",
       "      <td>2010</td>\n",
       "      <td>9cee0c22-b065-4e23-925d-68c1cfc75dbe</td>\n",
       "      <td>NaN</td>\n",
       "      <td>We discuss the use of Field Programmable Gate ...</td>\n",
       "      <td>['Reid B. Porter', 'Kevin P. Mccabe', 'Neil W....</td>\n",
       "      <td>50</td>\n",
       "      <td>['2633935f-57cc-40ad-9ee4-6dcb72aae169', '6a6b...</td>\n",
       "      <td>An applications approach to evolvable hardware</td>\n",
       "      <td>NaN</td>\n",
       "      <td>1999</td>\n",
       "      <td>28.57</td>\n",
       "      <td>44.90</td>\n",
       "      <td>-13.3875</td>\n",
       "      <td>93.75</td>\n",
       "      <td>31.00</td>\n",
       "      <td>-17.47</td>\n",
       "      <td>97.354730</td>\n",
       "      <td>386.915432</td>\n",
       "      <td>4867.736494</td>\n",
       "      <td>12.580880</td>\n",
       "    </tr>\n",
       "    <tr>\n",
       "      <th>3</th>\n",
       "      <td>3</td>\n",
       "      <td>NaN</td>\n",
       "      <td>This paper presents the design and implementat...</td>\n",
       "      <td>['Sergio R. Geninatti', 'José Ignacio Benavide...</td>\n",
       "      <td>0</td>\n",
       "      <td>ea135772-baf4-4fca-b689-7e0bf2861a2b</td>\n",
       "      <td>Concurrent calculations on reconfigurable logi...</td>\n",
       "      <td>International Journal of Reconfigurable Computing</td>\n",
       "      <td>2010</td>\n",
       "      <td>9cee0c22-b065-4e23-925d-68c1cfc75dbe</td>\n",
       "      <td>NaN</td>\n",
       "      <td>A parallel images processing field programmabl...</td>\n",
       "      <td>['Takeaki Sugimura', 'JeoungChill Shim', 'Hiro...</td>\n",
       "      <td>7</td>\n",
       "      <td>['28f5ffcb-1076-49d0-9cf0-8a64694e2f67']</td>\n",
       "      <td>Parallel image processing field programmable g...</td>\n",
       "      <td>field-programmable technology</td>\n",
       "      <td>2003</td>\n",
       "      <td>28.57</td>\n",
       "      <td>39.51</td>\n",
       "      <td>-14.0000</td>\n",
       "      <td>93.75</td>\n",
       "      <td>27.00</td>\n",
       "      <td>-20.83</td>\n",
       "      <td>95.772162</td>\n",
       "      <td>386.915432</td>\n",
       "      <td>670.405134</td>\n",
       "      <td>1.732692</td>\n",
       "    </tr>\n",
       "    <tr>\n",
       "      <th>4</th>\n",
       "      <td>4</td>\n",
       "      <td>NaN</td>\n",
       "      <td>In this paper an approach to the performance a...</td>\n",
       "      <td>['Srđan Jovković', 'Stefan Panic', 'Mihajlo C....</td>\n",
       "      <td>50</td>\n",
       "      <td>11a9d4ce-e21c-4f59-bf52-e2cc3b52de45</td>\n",
       "      <td>Performance analysis of SSC diversity receiver...</td>\n",
       "      <td>Eurasip Journal on Wireless Communications and...</td>\n",
       "      <td>2010</td>\n",
       "      <td>a024dd21-83ad-4def-bfa5-8f714f502687</td>\n",
       "      <td>NaN</td>\n",
       "      <td>This paper describes a method of deriving chan...</td>\n",
       "      <td>['Klaus Witrisal', 'Yong-Ho Kim', 'Ramjee Pras...</td>\n",
       "      <td>79</td>\n",
       "      <td>['47b6b7ee-1947-453a-b664-e2e1f9f31def', '7291...</td>\n",
       "      <td>A new method to measure parameters of frequenc...</td>\n",
       "      <td>IEEE Transactions on Communications</td>\n",
       "      <td>2001</td>\n",
       "      <td>54.55</td>\n",
       "      <td>51.55</td>\n",
       "      <td>-27.1780</td>\n",
       "      <td>95.45</td>\n",
       "      <td>38.91</td>\n",
       "      <td>-10.54</td>\n",
       "      <td>97.863651</td>\n",
       "      <td>778.884893</td>\n",
       "      <td>7731.228403</td>\n",
       "      <td>9.926022</td>\n",
       "    </tr>\n",
       "  </tbody>\n",
       "</table>\n",
       "</div>"
      ],
      "text/plain": [
       "   Unnamed: 0  _id                                           abstract  \\\n",
       "0           0  NaN  This paper presents the design and implementat...   \n",
       "1           1  NaN  This paper presents the design and implementat...   \n",
       "2           2  NaN  This paper presents the design and implementat...   \n",
       "3           3  NaN  This paper presents the design and implementat...   \n",
       "4           4  NaN  In this paper an approach to the performance a...   \n",
       "\n",
       "                                             authors  n_citation  \\\n",
       "0  ['Sergio R. Geninatti', 'José Ignacio Benavide...           0   \n",
       "1  ['Sergio R. Geninatti', 'José Ignacio Benavide...           0   \n",
       "2  ['Sergio R. Geninatti', 'José Ignacio Benavide...           0   \n",
       "3  ['Sergio R. Geninatti', 'José Ignacio Benavide...           0   \n",
       "4  ['Srđan Jovković', 'Stefan Panic', 'Mihajlo C....          50   \n",
       "\n",
       "                             references  \\\n",
       "0  6b19b1e6-81c5-4039-8a70-f3a2797f5447   \n",
       "1  8823b473-17c0-4f1f-a084-f86ae4b29e63   \n",
       "2  b9e545cf-0862-4ad2-873c-92740caca989   \n",
       "3  ea135772-baf4-4fca-b689-7e0bf2861a2b   \n",
       "4  11a9d4ce-e21c-4f59-bf52-e2cc3b52de45   \n",
       "\n",
       "                                               title  \\\n",
       "0  Concurrent calculations on reconfigurable logi...   \n",
       "1  Concurrent calculations on reconfigurable logi...   \n",
       "2  Concurrent calculations on reconfigurable logi...   \n",
       "3  Concurrent calculations on reconfigurable logi...   \n",
       "4  Performance analysis of SSC diversity receiver...   \n",
       "\n",
       "                                               venue  year  \\\n",
       "0  International Journal of Reconfigurable Computing  2010   \n",
       "1  International Journal of Reconfigurable Computing  2010   \n",
       "2  International Journal of Reconfigurable Computing  2010   \n",
       "3  International Journal of Reconfigurable Computing  2010   \n",
       "4  Eurasip Journal on Wireless Communications and...  2010   \n",
       "\n",
       "                                     id  ref_index  \\\n",
       "0  9cee0c22-b065-4e23-925d-68c1cfc75dbe        NaN   \n",
       "1  9cee0c22-b065-4e23-925d-68c1cfc75dbe        NaN   \n",
       "2  9cee0c22-b065-4e23-925d-68c1cfc75dbe        NaN   \n",
       "3  9cee0c22-b065-4e23-925d-68c1cfc75dbe        NaN   \n",
       "4  a024dd21-83ad-4def-bfa5-8f714f502687        NaN   \n",
       "\n",
       "                                        ref_abstract  \\\n",
       "0  The combination of hardware acceleration and f...   \n",
       "1  This work presents a new scene change detectio...   \n",
       "2  We discuss the use of Field Programmable Gate ...   \n",
       "3  A parallel images processing field programmabl...   \n",
       "4  This paper describes a method of deriving chan...   \n",
       "\n",
       "                                         ref_authors  ref_n_citation  \\\n",
       "0  ['Heather Quinn', 'Laurie A. Smith King', 'Mir...              50   \n",
       "1  ['Edmundo Saez', 'José Ignacio Benavides', 'Ni...              12   \n",
       "2  ['Reid B. Porter', 'Kevin P. Mccabe', 'Neil W....              50   \n",
       "3  ['Takeaki Sugimura', 'JeoungChill Shim', 'Hiro...               7   \n",
       "4  ['Klaus Witrisal', 'Yong-Ho Kim', 'Ramjee Pras...              79   \n",
       "\n",
       "                                      ref_references  \\\n",
       "0  ['115b9e24-0791-4251-8777-24c38fea952f', '430c...   \n",
       "1  ['181e1f31-1580-454c-bdb8-7e46839d453d', '53fe...   \n",
       "2  ['2633935f-57cc-40ad-9ee4-6dcb72aae169', '6a6b...   \n",
       "3           ['28f5ffcb-1076-49d0-9cf0-8a64694e2f67']   \n",
       "4  ['47b6b7ee-1947-453a-b664-e2e1f9f31def', '7291...   \n",
       "\n",
       "                                           ref_title  \\\n",
       "0  Runtime assignment of reconfigurable hardware ...   \n",
       "1  Reliable real time scene change detection in M...   \n",
       "2     An applications approach to evolvable hardware   \n",
       "3  Parallel image processing field programmable g...   \n",
       "4  A new method to measure parameters of frequenc...   \n",
       "\n",
       "                                         ref_venue  ref_year  BoW_Jac  \\\n",
       "0     field programmable custom computing machines      2003    30.00   \n",
       "1  international conference on multimedia and expo      2004    37.50   \n",
       "2                                              NaN      1999    28.57   \n",
       "3                    field-programmable technology      2003    28.57   \n",
       "4              IEEE Transactions on Communications      2001    54.55   \n",
       "\n",
       "   BoW_Cos  BoW_Euc  tfidf_Jac  tfidf_Cos  tfidf_Euc  w2v_Cos_x  \\\n",
       "0    50.53 -22.8537      95.65      35.83     -13.29  97.833942   \n",
       "1    40.34 -15.1555      93.75      27.34     -20.55  95.954598   \n",
       "2    44.90 -13.3875      93.75      31.00     -17.47  97.354730   \n",
       "3    39.51 -14.0000      93.75      27.00     -20.83  95.772162   \n",
       "4    51.55 -27.1780      95.45      38.91     -10.54  97.863651   \n",
       "\n",
       "   sum_similarity_weight  weightvalue  weighted_avg_ref_citations  \n",
       "0             386.915432  4891.697105                   12.642807  \n",
       "1             386.915432  1151.455178                    2.975987  \n",
       "2             386.915432  4867.736494                   12.580880  \n",
       "3             386.915432   670.405134                    1.732692  \n",
       "4             778.884893  7731.228403                    9.926022  "
      ]
     },
     "execution_count": 22,
     "metadata": {},
     "output_type": "execute_result"
    }
   ],
   "source": [
    "df_refer.head()"
   ]
  },
  {
   "cell_type": "code",
   "execution_count": 24,
   "id": "b1b0e8b1",
   "metadata": {},
   "outputs": [
    {
     "data": {
      "text/plain": [
       "<AxesSubplot:>"
      ]
     },
     "execution_count": 24,
     "metadata": {},
     "output_type": "execute_result"
    },
    {
     "data": {
      "image/png": "[encoded data removed]",
      "text/plain": [
       "<Figure size 720x648 with 1 Axes>"
      ]
     },
     "metadata": {
      "needs_background": "light"
     },
     "output_type": "display_data"
    }
   ],
   "source": [
    "df_refer['tfidf_Cos'].hist(figsize=(10,9)) #looks pretty normal"
   ]
  },
  {
   "cell_type": "code",
   "execution_count": 16,
   "id": "44bddfec",
   "metadata": {},
   "outputs": [],
   "source": [
    "mean_similarity = pd.pivot_table(df_refer, values=['BoW_Cos','tfidf_Cos'], \n",
    "                                                    index=['id'], columns=None, aggfunc='mean')\n",
    "\n",
    "df_main = pd.merge(df_main, mean_similarity,  on='id')"
   ]
  },
  {
   "cell_type": "code",
   "execution_count": 17,
   "id": "7832f479",
   "metadata": {},
   "outputs": [],
   "source": [
    "sd_similarity = pd.pivot_table(df_refer, values=['BoW_Cos','tfidf_Cos'], \n",
    "                                                    index=['id'], columns=None, aggfunc='std')\n",
    "df_main = pd.merge(df_main, sd_similarity,  on='id')"
   ]
  },
  {
   "cell_type": "code",
   "execution_count": 19,
   "id": "1f018d98",
   "metadata": {},
   "outputs": [],
   "source": [
    "\n",
    "df_main.rename(columns= {'BoW_Cos_x': 'mean_BoW_Cos', \t'tfidf_Cos_x':'mean_tfidf_Cos',\t\n",
    "                         'BoW_Cos_y':'sd_Bow_Cos', 'tfidf_Cos_y': 'sd_tfidf_Cos'}, inplace=True)"
   ]
  },
  {
   "cell_type": "code",
   "execution_count": 26,
   "id": "ecfa53ff",
   "metadata": {},
   "outputs": [
    {
     "data": {
      "text/plain": [
       "<AxesSubplot:>"
      ]
     },
     "execution_count": 26,
     "metadata": {},
     "output_type": "execute_result"
    },
    {
     "data": {
      "image/png": "[encoded data removed]",
      "text/plain": [
       "<Figure size 432x288 with 1 Axes>"
      ]
     },
     "metadata": {
      "needs_background": "light"
     },
     "output_type": "display_data"
    }
   ],
   "source": [
    "df_refer['ref_year'].hist() #not normal at all. "
   ]
  },
  {
   "cell_type": "code",
   "execution_count": 27,
   "id": "85bc83ea",
   "metadata": {},
   "outputs": [],
   "source": [
    "med_ref_year = pd.pivot_table(df_refer, values=['ref_year'], \n",
    "                                                    index=['id'], columns=None, aggfunc='median')\n",
    "\n",
    "df_main = pd.merge(df_main, med_ref_year,  on='id')"
   ]
  },
  {
   "cell_type": "code",
   "execution_count": 28,
   "id": "95b22870",
   "metadata": {},
   "outputs": [],
   "source": [
    "skew_ref_year = pd.pivot_table(df_refer, values=['ref_year'], \n",
    "                                                    index=['id'], columns=None, aggfunc='skew')\n",
    "\n",
    "df_main = pd.merge(df_main, skew_ref_year,  on='id')"
   ]
  },
  {
   "cell_type": "code",
   "execution_count": 29,
   "id": "20ad1b22",
   "metadata": {},
   "outputs": [
    {
     "data": {
      "text/html": [
       "<div>\n",
       "<style scoped>\n",
       "    .dataframe tbody tr th:only-of-type {\n",
       "        vertical-align: middle;\n",
       "    }\n",
       "\n",
       "    .dataframe tbody tr th {\n",
       "        vertical-align: top;\n",
       "    }\n",
       "\n",
       "    .dataframe thead th {\n",
       "        text-align: right;\n",
       "    }\n",
       "</style>\n",
       "<table border=\"1\" class=\"dataframe\">\n",
       "  <thead>\n",
       "    <tr style=\"text-align: right;\">\n",
       "      <th></th>\n",
       "      <th>Unnamed: 0</th>\n",
       "      <th>_id</th>\n",
       "      <th>abstract</th>\n",
       "      <th>authors</th>\n",
       "      <th>n_citation</th>\n",
       "      <th>references_x</th>\n",
       "      <th>title</th>\n",
       "      <th>venue</th>\n",
       "      <th>year</th>\n",
       "      <th>id</th>\n",
       "      <th>mean_ref_year</th>\n",
       "      <th>max_ref_year</th>\n",
       "      <th>title_len</th>\n",
       "      <th>n_authors</th>\n",
       "      <th>n_references</th>\n",
       "      <th>ab_len</th>\n",
       "      <th>title_meta</th>\n",
       "      <th>title_review</th>\n",
       "      <th>impact_1y</th>\n",
       "      <th>weighted_avg_ref_citations_y</th>\n",
       "      <th>sentiment</th>\n",
       "      <th>negative</th>\n",
       "      <th>positive</th>\n",
       "      <th>mean_BoW_Cos</th>\n",
       "      <th>mean_tfidf_Cos</th>\n",
       "      <th>sd_Bow_Cos</th>\n",
       "      <th>sd_tfidf_Cos</th>\n",
       "      <th>ref_year_x</th>\n",
       "      <th>ref_year_y</th>\n",
       "    </tr>\n",
       "  </thead>\n",
       "  <tbody>\n",
       "  </tbody>\n",
       "</table>\n",
       "</div>"
      ],
      "text/plain": [
       "Empty DataFrame\n",
       "Columns: [Unnamed: 0, _id, abstract, authors, n_citation, references_x, title, venue, year, id, mean_ref_year, max_ref_year, title_len, n_authors, n_references, ab_len, title_meta, title_review, impact_1y, weighted_avg_ref_citations_y, sentiment, negative, positive, mean_BoW_Cos, mean_tfidf_Cos, sd_Bow_Cos, sd_tfidf_Cos, ref_year_x, ref_year_y]\n",
       "Index: []"
      ]
     },
     "execution_count": 29,
     "metadata": {},
     "output_type": "execute_result"
    }
   ],
   "source": [
    "df_main.head(0)"
   ]
  },
  {
   "cell_type": "code",
   "execution_count": 30,
   "id": "93768170",
   "metadata": {},
   "outputs": [],
   "source": [
    "df_main.rename(columns= {'ref_year_x': 'med_ref_year', \t'ref_year_y':'skew_ref_year'}, inplace=True)"
   ]
  },
  {
   "cell_type": "code",
   "execution_count": 32,
   "id": "ed3338c2",
   "metadata": {},
   "outputs": [
    {
     "name": "stderr",
     "output_type": "stream",
     "text": [
      "[nltk_data] Downloading package stopwords to /Users/ham/nltk_data...\n",
      "[nltk_data]   Package stopwords is already up-to-date!\n"
     ]
    }
   ],
   "source": [
    "#LDA Topic modeling\n",
    "import gensim\n",
    "from gensim.utils import simple_preprocess\n",
    "import nltk\n",
    "#nltk.download('stopwords')\n",
    "from nltk.corpus import stopwords\n",
    "import re\n",
    "from pprint import pprint"
   ]
  },
  {
   "cell_type": "code",
   "execution_count": 33,
   "id": "14c23ad5",
   "metadata": {},
   "outputs": [],
   "source": [
    "def preprocess(raw_text):\n",
    "\n",
    "    # keep only words\n",
    "    letters_only_text = re.sub(\"[^a-zA-Z]\", \" \", raw_text)\n",
    "\n",
    "    # convert to lower case and split \n",
    "    words = letters_only_text.lower().split()\n",
    "\n",
    "    # remove stopwords\n",
    "    stopword_set = set(stopwords.words(\"english\"))\n",
    "    cleaned_words = list(set([w for w in words if w not in stopword_set]))\n",
    "\n",
    "    return cleaned_words\n"
   ]
  },
  {
   "cell_type": "code",
   "execution_count": 39,
   "id": "9c9ddb7e",
   "metadata": {},
   "outputs": [],
   "source": [
    "import gensim.corpora as corpora\n",
    "\n",
    "LDA_topics = []\n",
    "for index, row in df_main.iterrows():\n",
    "    text = row['abstract']\n",
    "    clean = preprocess(text)\n",
    "    id2word = corpora.Dictionary([clean])\n",
    "    corpus = [id2word.doc2bow(tokens) for tokens in [clean]]\n",
    "    num_topics = 5\n",
    "    lda_model = gensim.models.LdaMulticore(corpus=corpus,\n",
    "                                       id2word=id2word,\n",
    "                                       num_topics=num_topics)\n",
    "\n",
    "    doc_lda = lda_model.print_topics(num_topics=5)\n",
    "    LDA_topics.append(doc_lda)\n",
    "\n",
    "df_main['LDA_topics'] = LDA_topics\n",
    "\n"
   ]
  },
  {
   "cell_type": "code",
   "execution_count": 40,
   "id": "0071b294",
   "metadata": {},
   "outputs": [
    {
     "data": {
      "text/plain": [
       "0    [(0, 0.016*\"similarities\" + 0.016*\"concurrent\"...\n",
       "1    [(0, 0.016*\"pdf\" + 0.016*\"keying\" + 0.016*\"sym...\n",
       "2    [(0, 0.015*\"design\" + 0.014*\"understand\" + 0.0...\n",
       "3    [(0, 0.029*\"stereo\" + 0.029*\"approach\" + 0.029...\n",
       "4    [(0, 0.022*\"order\" + 0.022*\"method\" + 0.022*\"s...\n",
       "Name: LDA_topics, dtype: object"
      ]
     },
     "execution_count": 40,
     "metadata": {},
     "output_type": "execute_result"
    }
   ],
   "source": [
    "df_main['LDA_topics'].head()\n",
    "#don't know what to do with this"
   ]
  },
  {
   "cell_type": "code",
   "execution_count": 41,
   "id": "bc52c806",
   "metadata": {},
   "outputs": [],
   "source": [
    "df_main.to_csv(\"df_main6.csv\")"
   ]
  },
  {
   "cell_type": "code",
   "execution_count": null,
   "id": "3749240c",
   "metadata": {},
   "outputs": [],
   "source": []
  }
 ],
 "metadata": {
  "kernelspec": {
   "display_name": "Python 3 (ipykernel)",
   "language": "python",
   "name": "python3"
  },
  "language_info": {
   "codemirror_mode": {
    "name": "ipython",
    "version": 3
   },
   "file_extension": ".py",
   "mimetype": "text/x-python",
   "name": "python",
   "nbconvert_exporter": "python",
   "pygments_lexer": "ipython3",
   "version": "3.9.12"
  }
 },
 "nbformat": 4,
 "nbformat_minor": 5
}
