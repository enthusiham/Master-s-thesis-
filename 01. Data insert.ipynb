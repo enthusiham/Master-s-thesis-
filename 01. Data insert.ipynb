{
 "cells": [
  {
   "cell_type": "code",
   "execution_count": 1,
   "id": "ea7c3767",
   "metadata": {},
   "outputs": [],
   "source": [
    "import json\n",
    "import ast\n",
    "import pymongo\n",
    "import pprint\n",
    "import pandas as pd\n",
    "from time import time\n",
    "import ast\n",
    "import sys\n",
    "from pymongo import MongoClient"
   ]
  },
  {
   "cell_type": "code",
   "execution_count": 2,
   "id": "56c0af98",
   "metadata": {},
   "outputs": [],
   "source": [
    "client = MongoClient(\"localhost\", 27017)\n",
    "#print(client.list_database_names())\n",
    "db = client.CitationDB\n",
    "col = db.papers"
   ]
  },
  {
   "cell_type": "code",
   "execution_count": 3,
   "id": "1bad638b",
   "metadata": {},
   "outputs": [
    {
     "name": "stdout",
     "output_type": "stream",
     "text": [
      "['CitationDB', 'admin', 'config', 'local', 'newDB']\n"
     ]
    }
   ],
   "source": [
    "dbnames = client.list_database_names()\n",
    "print(dbnames)"
   ]
  },
  {
   "cell_type": "markdown",
   "id": "ac2803aa",
   "metadata": {},
   "source": [
    "with open('dblp-ref-0.json', 'r', encoding='utf-8') as f:\n",
    "    for line in f:\n",
    "            # Convert line into json in 3 steps:\n",
    "            # 1. json dumps converts to string,\n",
    "            # 2. literal_eval takes string literal,\n",
    "            # 3. json.loads converts to json\n",
    "        data = json.loads(ast.literal_eval(json.dumps(line)))\n",
    "        try:\n",
    "                # Try inserting one line of data\n",
    "            db.papers.insert_one(data)\n",
    "        except TypeError as e:\n",
    "                print(e)"
   ]
  },
  {
   "cell_type": "markdown",
   "id": "bf91f2b7",
   "metadata": {},
   "source": [
    "with open('dblp-ref-1.json', 'r', encoding='utf-8') as f:\n",
    "    for line in f:\n",
    "            # Convert line into json in 3 steps:\n",
    "            # 1. json dumps converts to string,\n",
    "            # 2. literal_eval takes string literal,\n",
    "            # 3. json.loads converts to json\n",
    "        data = json.loads(ast.literal_eval(json.dumps(line)))\n",
    "        try:\n",
    "                # Try inserting one line of data\n",
    "            db.papers.insert_one(data)\n",
    "        except TypeError as e:\n",
    "                print(e)"
   ]
  },
  {
   "cell_type": "code",
   "execution_count": 4,
   "id": "d3be2189",
   "metadata": {},
   "outputs": [],
   "source": [
    "with open('dblp-ref-3.json', 'r', encoding='utf-8') as f:\n",
    "    for line in f:\n",
    "            # Convert line into json in 3 steps:\n",
    "            # 1. json dumps converts to string,\n",
    "            # 2. literal_eval takes string literal,\n",
    "            # 3. json.loads converts to json\n",
    "        data = json.loads(ast.literal_eval(json.dumps(line)))\n",
    "        try:\n",
    "                # Try inserting one line of data\n",
    "            db.papers.insert_one(data)\n",
    "        except TypeError as e:\n",
    "                print(e)"
   ]
  },
  {
   "cell_type": "code",
   "execution_count": 5,
   "id": "e1593ab2",
   "metadata": {},
   "outputs": [],
   "source": [
    "query ={\"year\": {\"$gte\": \"2005\", \"$lte\":\"2009\"}}\n",
    "#projections = {\"id\":1, \"venue\":1, 'n_citation': 1, \"year\":1}\n",
    "journal_impact = list(db.col.find(query))"
   ]
  },
  {
   "cell_type": "code",
   "execution_count": 6,
   "id": "d962c6d6",
   "metadata": {},
   "outputs": [
    {
     "data": {
      "text/plain": [
       "[]"
      ]
     },
     "execution_count": 6,
     "metadata": {},
     "output_type": "execute_result"
    }
   ],
   "source": [
    "journal_impact"
   ]
  },
  {
   "cell_type": "code",
   "execution_count": null,
   "id": "fb2dd481",
   "metadata": {},
   "outputs": [],
   "source": []
  }
 ],
 "metadata": {
  "kernelspec": {
   "display_name": "Python 3 (ipykernel)",
   "language": "python",
   "name": "python3"
  },
  "language_info": {
   "codemirror_mode": {
    "name": "ipython",
    "version": 3
   },
   "file_extension": ".py",
   "mimetype": "text/x-python",
   "name": "python",
   "nbconvert_exporter": "python",
   "pygments_lexer": "ipython3",
   "version": "3.9.12"
  }
 },
 "nbformat": 4,
 "nbformat_minor": 5
}
