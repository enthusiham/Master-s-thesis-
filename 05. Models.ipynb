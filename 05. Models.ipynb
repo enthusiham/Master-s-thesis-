{
 "cells": [
  {
   "cell_type": "code",
   "execution_count": 2,
   "id": "b2a009a9",
   "metadata": {},
   "outputs": [],
   "source": [
    "import json\n",
    "import pandas as pd\n",
    "from pandas import json_normalize\n",
    "import numpy as np"
   ]
  },
  {
   "cell_type": "code",
   "execution_count": 3,
   "id": "79d296a5",
   "metadata": {},
   "outputs": [],
   "source": [
    "df_main = pd.read_pickle(\"df_main.pkl\")\n",
    "df_refer = pd.read_pickle(\"df_with_reference.pkl\")"
   ]
  },
  {
   "cell_type": "code",
   "execution_count": 4,
   "id": "0ac69692",
   "metadata": {},
   "outputs": [],
   "source": [
    "#1. Linear regression\n",
    "from sklearn.linear_model import LinearRegression\n",
    "Y = df_main['n_citation']\n",
    "X = df_main[['mean_vector_similarity','max_vector_similarity', \n",
    "             'mean_ref_year', 'max_ref_year', 'title_len', 'n_authors', 'n_references', 'ab_len',\n",
    "             'count_similarity_x','count_similarity_y',\t'tfidf_similarity_x', 'tfidf_similarity_y']]\n",
    "\n",
    "#'mean_ref_n_citation','max_ref_n_citation' omitted not significant at all\n",
    "\n",
    "LR = LinearRegression()\n",
    "\n"
   ]
  },
  {
   "cell_type": "code",
   "execution_count": 5,
   "id": "d709773b",
   "metadata": {},
   "outputs": [],
   "source": [
    "import statsmodels.api as sm\n",
    "result = sm.OLS(Y, X).fit()"
   ]
  },
  {
   "cell_type": "code",
   "execution_count": 6,
   "id": "987095fa",
   "metadata": {},
   "outputs": [
    {
     "name": "stdout",
     "output_type": "stream",
     "text": [
      "                                 OLS Regression Results                                \n",
      "=======================================================================================\n",
      "Dep. Variable:             n_citation   R-squared (uncentered):                   0.143\n",
      "Model:                            OLS   Adj. R-squared (uncentered):              0.139\n",
      "Method:                 Least Squares   F-statistic:                              34.49\n",
      "Date:                Fri, 10 Jun 2022   Prob (F-statistic):                    1.09e-62\n",
      "Time:                        15:31:36   Log-Likelihood:                         -12181.\n",
      "No. Observations:                2080   AIC:                                  2.438e+04\n",
      "Df Residuals:                    2070   BIC:                                  2.444e+04\n",
      "Df Model:                          10                                                  \n",
      "Covariance Type:            nonrobust                                                  \n",
      "==========================================================================================\n",
      "                             coef    std err          t      P>|t|      [0.025      0.975]\n",
      "------------------------------------------------------------------------------------------\n",
      "mean_vector_similarity    -1.0896      0.997     -1.092      0.275      -3.045       0.866\n",
      "max_vector_similarity      1.2446      0.756      1.647      0.100      -0.237       2.727\n",
      "mean_ref_year              1.3652      0.736      1.855      0.064      -0.078       2.809\n",
      "max_ref_year              -1.3640      0.736     -1.854      0.064      -2.807       0.079\n",
      "title_len                 -0.2226      0.566     -0.393      0.694      -1.332       0.887\n",
      "n_authors                  1.4915      1.098      1.358      0.175      -0.662       3.645\n",
      "n_references               1.8538      0.408      4.547      0.000       1.054       2.653\n",
      "ab_len                     0.1259      0.037      3.393      0.001       0.053       0.199\n",
      "count_similarity_x        -1.0896      0.997     -1.092      0.275      -3.045       0.866\n",
      "count_similarity_y         1.2446      0.756      1.647      0.100      -0.237       2.727\n",
      "tfidf_similarity_x         2.0108      2.040      0.986      0.324      -1.989       6.011\n",
      "tfidf_similarity_y        -2.3870      1.350     -1.768      0.077      -5.034       0.260\n",
      "==============================================================================\n",
      "Omnibus:                     5458.772   Durbin-Watson:                   2.018\n",
      "Prob(Omnibus):                  0.000   Jarque-Bera (JB):        109512272.616\n",
      "Skew:                          29.614   Prob(JB):                         0.00\n",
      "Kurtosis:                    1125.540   Cond. No.                     1.14e+19\n",
      "==============================================================================\n",
      "\n",
      "Notes:\n",
      "[1] R² is computed without centering (uncentered) since the model does not contain a constant.\n",
      "[2] Standard Errors assume that the covariance matrix of the errors is correctly specified.\n",
      "[3] The smallest eigenvalue is 1.3e-28. This might indicate that there are\n",
      "strong multicollinearity problems or that the design matrix is singular.\n"
     ]
    }
   ],
   "source": [
    "print(result.summary())\n",
    "#vector_similarity, Number of authors significant"
   ]
  },
  {
   "cell_type": "code",
   "execution_count": 7,
   "id": "7b6ebd7f",
   "metadata": {},
   "outputs": [],
   "source": [
    "#2. Random Forest Regressor\n",
    "from sklearn.ensemble import RandomForestRegressor\n",
    "from sklearn.model_selection import train_test_split\n",
    "Y = df_main['n_citation']\n",
    "X = df_main[['mean_vector_similarity','max_vector_similarity', \n",
    "             'mean_ref_year', 'max_ref_year', 'title_len', 'n_authors', 'n_references', 'ab_len',\n",
    "             'count_similarity_x','count_similarity_y',\t'tfidf_similarity_x', 'tfidf_similarity_y']]\n",
    "#not included : , 'title_len'"
   ]
  },
  {
   "cell_type": "code",
   "execution_count": 8,
   "id": "fbbb84aa",
   "metadata": {},
   "outputs": [],
   "source": [
    "X_train, X_test, Y_train, Y_test = train_test_split(X, Y, test_size=0.5)\n",
    "\n",
    "regr = RandomForestRegressor(n_estimators=50)\n",
    "regr.fit(X_train,Y_train)\n",
    "\n",
    "y_pred=regr.predict(X_test)"
   ]
  },
  {
   "cell_type": "code",
   "execution_count": 9,
   "id": "4a4bab47",
   "metadata": {},
   "outputs": [
    {
     "name": "stdout",
     "output_type": "stream",
     "text": [
      "Mean Absolute Error: 34.40701923076924\n",
      "Mean Squared Error: 6618.644154230769\n",
      "Root Mean Squared Error: 81.35504996145457\n"
     ]
    }
   ],
   "source": [
    "from sklearn import metrics\n",
    "print('Mean Absolute Error:', metrics.mean_absolute_error(Y_test, y_pred)) \n",
    "print('Mean Squared Error:', metrics.mean_squared_error(Y_test, y_pred))\n",
    "print('Root Mean Squared Error:', np.sqrt(metrics.mean_squared_error(Y_test, y_pred)))"
   ]
  },
  {
   "cell_type": "code",
   "execution_count": 10,
   "id": "42064c54",
   "metadata": {},
   "outputs": [],
   "source": [
    "X_train, X_test, Y_train, Y_test = train_test_split(X, Y, test_size=0.5)\n",
    "\n",
    "regr = RandomForestRegressor(n_estimators=40)\n",
    "regr.fit(X_train,Y_train)\n",
    "\n",
    "y_pred=regr.predict(X_test)"
   ]
  },
  {
   "cell_type": "code",
   "execution_count": 11,
   "id": "23bce97e",
   "metadata": {},
   "outputs": [
    {
     "name": "stdout",
     "output_type": "stream",
     "text": [
      "Mean Absolute Error: 32.09016826923077\n",
      "Mean Squared Error: 12622.61200420673\n",
      "Root Mean Squared Error: 112.35039832687168\n",
      "R2 score : 0.02\n"
     ]
    }
   ],
   "source": [
    "from sklearn import metrics\n",
    "print('Mean Absolute Error:', metrics.mean_absolute_error(Y_test, y_pred)) \n",
    "print('Mean Squared Error:', metrics.mean_squared_error(Y_test, y_pred))\n",
    "print('Root Mean Squared Error:', np.sqrt(metrics.mean_squared_error(Y_test, y_pred)))\n",
    "print(\"R2 score : %.2f\" % metrics.r2_score(Y_test, y_pred))"
   ]
  },
  {
   "cell_type": "code",
   "execution_count": 12,
   "id": "38887999",
   "metadata": {},
   "outputs": [],
   "source": [
    "r2 = metrics.r2_score(Y_test, y_pred)"
   ]
  },
  {
   "cell_type": "code",
   "execution_count": 13,
   "id": "3f2e055a",
   "metadata": {},
   "outputs": [
    {
     "name": "stdout",
     "output_type": "stream",
     "text": [
      "0.02414086534080362\n"
     ]
    }
   ],
   "source": [
    "print(r2)"
   ]
  },
  {
   "cell_type": "code",
   "execution_count": 14,
   "id": "b49556f5",
   "metadata": {},
   "outputs": [],
   "source": [
    "import xgboost as xgb\n",
    "Y = df_main['n_citation']\n",
    "X = df_main[['mean_vector_similarity','max_vector_similarity', \n",
    "             'mean_ref_year', 'max_ref_year', 'title_len', 'n_authors', 'n_references', 'ab_len',\n",
    "             'count_similarity_x','count_similarity_y',\t'tfidf_similarity_x', 'tfidf_similarity_y']]\n",
    "\n",
    "X_train, X_test, Y_train, Y_test = train_test_split(X, Y, test_size=0.5)\n",
    "\n"
   ]
  },
  {
   "cell_type": "code",
   "execution_count": 15,
   "id": "41b0f9c3",
   "metadata": {},
   "outputs": [],
   "source": [
    "regr = xgb.XGBRegressor()\n",
    "regr.fit(X_train,Y_train)\n",
    "y_pred=regr.predict(X_test)\n"
   ]
  },
  {
   "cell_type": "code",
   "execution_count": 16,
   "id": "fbd2ebe4",
   "metadata": {},
   "outputs": [
    {
     "name": "stdout",
     "output_type": "stream",
     "text": [
      "Mean Absolute Error: 35.21359894769983\n",
      "Mean Squared Error: 13651.097959193445\n",
      "Root Mean Squared Error: 116.83791319256538\n",
      "R2 score : -0.10\n"
     ]
    }
   ],
   "source": [
    "print('Mean Absolute Error:', metrics.mean_absolute_error(Y_test, y_pred)) \n",
    "print('Mean Squared Error:', metrics.mean_squared_error(Y_test, y_pred))\n",
    "print('Root Mean Squared Error:', np.sqrt(metrics.mean_squared_error(Y_test, y_pred)))\n",
    "print(\"R2 score : %.2f\" % metrics.r2_score(Y_test, y_pred))"
   ]
  },
  {
   "cell_type": "code",
   "execution_count": 17,
   "id": "e4139949",
   "metadata": {},
   "outputs": [],
   "source": [
    "import lightgbm as lgb\n"
   ]
  },
  {
   "cell_type": "code",
   "execution_count": null,
   "id": "17e27150",
   "metadata": {},
   "outputs": [],
   "source": [
    "model = lgb.LGBMClassifier(learning_rate=0.09,max_depth=-5,random_state=42)\n",
    "model.fit(X_train,Y_train)"
   ]
  },
  {
   "cell_type": "code",
   "execution_count": null,
   "id": "c182f3a2",
   "metadata": {},
   "outputs": [],
   "source": [
    "y_pred=model.predict(X_test)"
   ]
  },
  {
   "cell_type": "code",
   "execution_count": null,
   "id": "f765c431",
   "metadata": {},
   "outputs": [],
   "source": [
    "print('Mean Absolute Error:', metrics.mean_absolute_error(Y_test, y_pred)) \n",
    "print('Mean Squared Error:', metrics.mean_squared_error(Y_test, y_pred))\n",
    "print('Root Mean Squared Error:', np.sqrt(metrics.mean_squared_error(Y_test, y_pred)))\n",
    "print(\"R2 score : %.2f\" % metrics.r2_score(Y_test, y_pred))"
   ]
  }
 ],
 "metadata": {
  "kernelspec": {
   "display_name": "Python 3 (ipykernel)",
   "language": "python",
   "name": "python3"
  },
  "language_info": {
   "codemirror_mode": {
    "name": "ipython",
    "version": 3
   },
   "file_extension": ".py",
   "mimetype": "text/x-python",
   "name": "python",
   "nbconvert_exporter": "python",
   "pygments_lexer": "ipython3",
   "version": "3.9.12"
  }
 },
 "nbformat": 4,
 "nbformat_minor": 5
}
