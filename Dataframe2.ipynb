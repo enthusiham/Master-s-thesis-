{
 "cells": [
  {
   "cell_type": "code",
   "execution_count": 1,
   "id": "858029ac",
   "metadata": {},
   "outputs": [],
   "source": [
    "import json\n",
    "import pandas as pd\n",
    "from pandas import json_normalize\n",
    "import numpy as np\n",
    "from pymongo import MongoClient\n",
    "import pprint"
   ]
  },
  {
   "cell_type": "code",
   "execution_count": 2,
   "id": "b5e84290",
   "metadata": {},
   "outputs": [],
   "source": [
    "client = MongoClient(\"localhost\", 27017)\n",
    "db = client[\"CitationDB\"]\n",
    "col = db.papers"
   ]
  },
  {
   "cell_type": "code",
   "execution_count": 3,
   "id": "51e5f487",
   "metadata": {},
   "outputs": [
    {
     "name": "stdout",
     "output_type": "stream",
     "text": [
      "['CitationDB', 'admin', 'config', 'local', 'newDB']\n"
     ]
    }
   ],
   "source": [
    "dbnames = client.list_database_names()\n",
    "print(dbnames)"
   ]
  },
  {
   "cell_type": "code",
   "execution_count": 4,
   "id": "2bb6ec7a",
   "metadata": {},
   "outputs": [
    {
     "data": {
      "text/plain": [
       "0"
      ]
     },
     "execution_count": 4,
     "metadata": {},
     "output_type": "execute_result"
    }
   ],
   "source": [
    "db.newDB.count_documents({'year': {\"$gte\": \"2005\", \"$lte\":\"2009\"}})"
   ]
  },
  {
   "cell_type": "code",
   "execution_count": 5,
   "id": "853a235b",
   "metadata": {},
   "outputs": [],
   "source": [
    "query ={\"year\": {\"$gte\": \"2005\", \"$lte\":\"2009\"}}\n",
    "#projections = {\"id\":1, \"venue\":1, 'n_citation': 1, \"year\":1}\n",
    "journal_impact = list(db.col.find(query))\n"
   ]
  },
  {
   "cell_type": "code",
   "execution_count": 6,
   "id": "1d11ee5a",
   "metadata": {},
   "outputs": [
    {
     "data": {
      "text/plain": [
       "[]"
      ]
     },
     "execution_count": 6,
     "metadata": {},
     "output_type": "execute_result"
    }
   ],
   "source": [
    "(journal_impact)"
   ]
  },
  {
   "cell_type": "code",
   "execution_count": 7,
   "id": "258c4af2",
   "metadata": {},
   "outputs": [],
   "source": [
    "df_main = pd.read_pickle(\"df_main.pkl\")\n",
    "df_refer = pd.read_pickle(\"df_with_reference.pkl\")"
   ]
  },
  {
   "cell_type": "code",
   "execution_count": 8,
   "id": "fc448737",
   "metadata": {},
   "outputs": [],
   "source": [
    "title_meta =[]\n",
    "for index, row in df_main.iterrows():\n",
    "    if \"meta\" in row['title']:\n",
    "        title_meta.append(1)\n",
    "    else:\n",
    "        title_meta.append(0)\n",
    "\n",
    "df_main['title_meta'] = title_meta"
   ]
  },
  {
   "cell_type": "code",
   "execution_count": 9,
   "id": "37bf3f25",
   "metadata": {},
   "outputs": [],
   "source": [
    "title_review =[]\n",
    "for index, row in df_main.iterrows():\n",
    "    if \"review\" in row['title']:\n",
    "        title_review.append(1)\n",
    "    else:\n",
    "        title_review.append(0)\n",
    "\n",
    "df_main['title_review'] = title_review"
   ]
  },
  {
   "cell_type": "code",
   "execution_count": 24,
   "id": "c19d3906",
   "metadata": {},
   "outputs": [],
   "source": [
    "with open('journal_impact_1y.json') as json_file:\n",
    "     impact_1y= json.load(json_file)"
   ]
  },
  {
   "cell_type": "code",
   "execution_count": 26,
   "id": "39061a69",
   "metadata": {},
   "outputs": [
    {
     "data": {
      "text/plain": [
       "621566"
      ]
     },
     "execution_count": 26,
     "metadata": {},
     "output_type": "execute_result"
    }
   ],
   "source": [
    "impact_1y.pop('') "
   ]
  },
  {
   "cell_type": "code",
   "execution_count": 33,
   "id": "1d238673",
   "metadata": {},
   "outputs": [],
   "source": [
    "impact_1y['']=0"
   ]
  },
  {
   "cell_type": "code",
   "execution_count": 38,
   "id": "4924e155",
   "metadata": {},
   "outputs": [],
   "source": [
    "impact_1y_col =[]\n",
    "\n",
    "for index, row in df_main.iterrows():\n",
    "    if row['venue'] == \"\":\n",
    "        impact_1y_col.append(0)\n",
    "    else:\n",
    "        if row['venue'] not in impact_1y.keys():\n",
    "            impact_1y_col.append(0)\n",
    "        else:\n",
    "            for x, y in impact_1y.items():\n",
    "                if row['venue'] == x:\n",
    "                    impact_1y_col.append(y)\n",
    "            "
   ]
  },
  {
   "cell_type": "code",
   "execution_count": 40,
   "id": "05657b1b",
   "metadata": {},
   "outputs": [],
   "source": [
    "df_main['impact_1y'] = impact_1y_col"
   ]
  },
  {
   "cell_type": "code",
   "execution_count": 41,
   "id": "db4a35d8",
   "metadata": {},
   "outputs": [
    {
     "data": {
      "text/plain": [
       "count     2080.000000\n",
       "mean      9981.122115\n",
       "std      14386.152171\n",
       "min          0.000000\n",
       "25%        334.500000\n",
       "50%       3436.000000\n",
       "75%      14923.750000\n",
       "max      85811.000000\n",
       "Name: impact_1y, dtype: float64"
      ]
     },
     "execution_count": 41,
     "metadata": {},
     "output_type": "execute_result"
    }
   ],
   "source": [
    "df_main['impact_1y'].describe()\n",
    "#question: should I scale this column?"
   ]
  },
  {
   "cell_type": "code",
   "execution_count": 42,
   "id": "6866ac2d",
   "metadata": {},
   "outputs": [],
   "source": [
    "#save df3 as df_with_reference\n",
    "df_main.to_pickle(\"df_main2.pkl\")"
   ]
  },
  {
   "cell_type": "code",
   "execution_count": null,
   "id": "743e02b7",
   "metadata": {},
   "outputs": [],
   "source": []
  }
 ],
 "metadata": {
  "kernelspec": {
   "display_name": "Python 3 (ipykernel)",
   "language": "python",
   "name": "python3"
  },
  "language_info": {
   "codemirror_mode": {
    "name": "ipython",
    "version": 3
   },
   "file_extension": ".py",
   "mimetype": "text/x-python",
   "name": "python",
   "nbconvert_exporter": "python",
   "pygments_lexer": "ipython3",
   "version": "3.9.12"
  }
 },
 "nbformat": 4,
 "nbformat_minor": 5
}
