{
 "cells": [
  {
   "cell_type": "code",
   "execution_count": 1,
   "id": "b2a009a9",
   "metadata": {},
   "outputs": [],
   "source": [
    "import json\n",
    "import pandas as pd\n",
    "from pandas import json_normalize\n",
    "import numpy as np\n",
    "pd.set_option(\"display.max_columns\", None)"
   ]
  },
  {
   "cell_type": "code",
   "execution_count": 3,
   "id": "79d296a5",
   "metadata": {},
   "outputs": [],
   "source": [
    "df_main = pd.read_csv(\"df_main6.csv\")\n",
    "df_refer = pd.read_csv(\"df_refer3.csv\")"
   ]
  },
  {
   "cell_type": "code",
   "execution_count": null,
   "id": "1a43ef95",
   "metadata": {},
   "outputs": [],
   "source": [
    "#df_main.loc[df_main['impact_1y'] == 0, 'impact_1y'] = ''"
   ]
  },
  {
   "cell_type": "code",
   "execution_count": 5,
   "id": "afbbe67e",
   "metadata": {},
   "outputs": [],
   "source": [
    "df_main.drop(['Unnamed: 0.1',\t'Unnamed: 0',\t'_id'], inplace=True, axis=1)\n"
   ]
  },
  {
   "cell_type": "code",
   "execution_count": 6,
   "id": "fa75f433",
   "metadata": {},
   "outputs": [
    {
     "data": {
      "text/html": [
       "<div>\n",
       "<style scoped>\n",
       "    .dataframe tbody tr th:only-of-type {\n",
       "        vertical-align: middle;\n",
       "    }\n",
       "\n",
       "    .dataframe tbody tr th {\n",
       "        vertical-align: top;\n",
       "    }\n",
       "\n",
       "    .dataframe thead th {\n",
       "        text-align: right;\n",
       "    }\n",
       "</style>\n",
       "<table border=\"1\" class=\"dataframe\">\n",
       "  <thead>\n",
       "    <tr style=\"text-align: right;\">\n",
       "      <th></th>\n",
       "      <th>abstract</th>\n",
       "      <th>authors</th>\n",
       "      <th>n_citation</th>\n",
       "      <th>references_x</th>\n",
       "      <th>title</th>\n",
       "      <th>venue</th>\n",
       "      <th>year</th>\n",
       "      <th>id</th>\n",
       "      <th>mean_ref_year</th>\n",
       "      <th>max_ref_year</th>\n",
       "      <th>title_len</th>\n",
       "      <th>n_authors</th>\n",
       "      <th>n_references</th>\n",
       "      <th>ab_len</th>\n",
       "      <th>title_meta</th>\n",
       "      <th>title_review</th>\n",
       "      <th>impact_1y</th>\n",
       "      <th>weighted_avg_ref_citations_y</th>\n",
       "      <th>sentiment</th>\n",
       "      <th>negative</th>\n",
       "      <th>positive</th>\n",
       "      <th>mean_BoW_Cos</th>\n",
       "      <th>mean_tfidf_Cos</th>\n",
       "      <th>sd_Bow_Cos</th>\n",
       "      <th>sd_tfidf_Cos</th>\n",
       "      <th>med_ref_year</th>\n",
       "      <th>skew_ref_year</th>\n",
       "      <th>LDA_topics</th>\n",
       "    </tr>\n",
       "  </thead>\n",
       "  <tbody>\n",
       "    <tr>\n",
       "      <th>0</th>\n",
       "      <td>This paper presents the design and implementat...</td>\n",
       "      <td>['Sergio R. Geninatti', 'José Ignacio Benavide...</td>\n",
       "      <td>0</td>\n",
       "      <td>['6b19b1e6-81c5-4039-8a70-f3a2797f5447', '8823...</td>\n",
       "      <td>Concurrent calculations on reconfigurable logi...</td>\n",
       "      <td>International Journal of Reconfigurable Computing</td>\n",
       "      <td>2010</td>\n",
       "      <td>9cee0c22-b065-4e23-925d-68c1cfc75dbe</td>\n",
       "      <td>2002.250000</td>\n",
       "      <td>2004</td>\n",
       "      <td>13</td>\n",
       "      <td>4</td>\n",
       "      <td>4</td>\n",
       "      <td>107</td>\n",
       "      <td>0</td>\n",
       "      <td>0</td>\n",
       "      <td>671</td>\n",
       "      <td>29.932365</td>\n",
       "      <td>{'neg': 0.017, 'neu': 0.9, 'pos': 0.083, 'comp...</td>\n",
       "      <td>0.017</td>\n",
       "      <td>0.083</td>\n",
       "      <td>43.820000</td>\n",
       "      <td>30.292500</td>\n",
       "      <td>5.062180</td>\n",
       "      <td>4.111864</td>\n",
       "      <td>2003.0</td>\n",
       "      <td>-1.719868</td>\n",
       "      <td>[(0, '0.016*\"similarities\" + 0.016*\"concurrent...</td>\n",
       "    </tr>\n",
       "    <tr>\n",
       "      <th>1</th>\n",
       "      <td>In this paper an approach to the performance a...</td>\n",
       "      <td>['Srđan Jovković', 'Stefan Panic', 'Mihajlo C....</td>\n",
       "      <td>50</td>\n",
       "      <td>['11a9d4ce-e21c-4f59-bf52-e2cc3b52de45', '3374...</td>\n",
       "      <td>Performance analysis of SSC diversity receiver...</td>\n",
       "      <td>Eurasip Journal on Wireless Communications and...</td>\n",
       "      <td>2010</td>\n",
       "      <td>a024dd21-83ad-4def-bfa5-8f714f502687</td>\n",
       "      <td>2005.000000</td>\n",
       "      <td>2010</td>\n",
       "      <td>17</td>\n",
       "      <td>5</td>\n",
       "      <td>8</td>\n",
       "      <td>109</td>\n",
       "      <td>0</td>\n",
       "      <td>0</td>\n",
       "      <td>7672</td>\n",
       "      <td>80.818049</td>\n",
       "      <td>{'neg': 0.024, 'neu': 0.952, 'pos': 0.024, 'co...</td>\n",
       "      <td>0.024</td>\n",
       "      <td>0.024</td>\n",
       "      <td>68.175000</td>\n",
       "      <td>56.155000</td>\n",
       "      <td>10.092957</td>\n",
       "      <td>11.248018</td>\n",
       "      <td>2005.0</td>\n",
       "      <td>0.000000</td>\n",
       "      <td>[(0, '0.016*\"pdf\" + 0.016*\"keying\" + 0.016*\"sy...</td>\n",
       "    </tr>\n",
       "    <tr>\n",
       "      <th>2</th>\n",
       "      <td>BitTorrent (BT) is currently the main P2P prot...</td>\n",
       "      <td>['Marios Iliofotou', 'Georgos Siganos', 'Xiaoy...</td>\n",
       "      <td>50</td>\n",
       "      <td>['1fbf5388-cffe-4abc-b809-c9119bf9f39c', '2cd1...</td>\n",
       "      <td>Comparing BitTorrent clients in the wild: the ...</td>\n",
       "      <td>international workshop on peer to peer systems</td>\n",
       "      <td>2010</td>\n",
       "      <td>791d78fe-cfeb-4fc8-8410-8fdab0951e29</td>\n",
       "      <td>2007.500000</td>\n",
       "      <td>2009</td>\n",
       "      <td>11</td>\n",
       "      <td>4</td>\n",
       "      <td>8</td>\n",
       "      <td>189</td>\n",
       "      <td>0</td>\n",
       "      <td>0</td>\n",
       "      <td>677</td>\n",
       "      <td>293.019421</td>\n",
       "      <td>{'neg': 0.0, 'neu': 0.927, 'pos': 0.073, 'comp...</td>\n",
       "      <td>0.000</td>\n",
       "      <td>0.073</td>\n",
       "      <td>54.667500</td>\n",
       "      <td>41.411250</td>\n",
       "      <td>7.329700</td>\n",
       "      <td>6.623011</td>\n",
       "      <td>2008.0</td>\n",
       "      <td>-0.808122</td>\n",
       "      <td>[(0, '0.015*\"design\" + 0.014*\"understand\" + 0....</td>\n",
       "    </tr>\n",
       "    <tr>\n",
       "      <th>3</th>\n",
       "      <td>This paper describes an approach for mobile ro...</td>\n",
       "      <td>['Friedrich Fraundorfer', 'Changchang Wu', 'Ma...</td>\n",
       "      <td>2</td>\n",
       "      <td>['1c09ef91-f69a-43e4-aaa7-571f3a143ea9', '6c38...</td>\n",
       "      <td>Methods for combined monocular and stereo mobi...</td>\n",
       "      <td>NaN</td>\n",
       "      <td>2010</td>\n",
       "      <td>77b90a8e-eeba-4a1e-b080-003a37a3c33d</td>\n",
       "      <td>2004.600000</td>\n",
       "      <td>2010</td>\n",
       "      <td>9</td>\n",
       "      <td>3</td>\n",
       "      <td>10</td>\n",
       "      <td>75</td>\n",
       "      <td>0</td>\n",
       "      <td>0</td>\n",
       "      <td>0</td>\n",
       "      <td>4933.787892</td>\n",
       "      <td>{'neg': 0.018, 'neu': 0.897, 'pos': 0.085, 'co...</td>\n",
       "      <td>0.018</td>\n",
       "      <td>0.085</td>\n",
       "      <td>49.249000</td>\n",
       "      <td>37.096000</td>\n",
       "      <td>18.765906</td>\n",
       "      <td>22.574353</td>\n",
       "      <td>2007.5</td>\n",
       "      <td>-2.501249</td>\n",
       "      <td>[(0, '0.029*\"stereo\" + 0.029*\"approach\" + 0.02...</td>\n",
       "    </tr>\n",
       "    <tr>\n",
       "      <th>4</th>\n",
       "      <td>High-order neural networks can be considered a...</td>\n",
       "      <td>['Yuxin Ding', 'Li Dong', 'Ling Wang', 'Guohua...</td>\n",
       "      <td>4</td>\n",
       "      <td>['0ebb0b84-824a-47c4-8daf-3ef005e1aafc', '1305...</td>\n",
       "      <td>A high order neural network to solve crossbar ...</td>\n",
       "      <td>international conference on neural information...</td>\n",
       "      <td>2010</td>\n",
       "      <td>fd872163-c207-4b9b-a1bb-fc5037c120e6</td>\n",
       "      <td>2005.230769</td>\n",
       "      <td>2009</td>\n",
       "      <td>10</td>\n",
       "      <td>4</td>\n",
       "      <td>13</td>\n",
       "      <td>118</td>\n",
       "      <td>0</td>\n",
       "      <td>0</td>\n",
       "      <td>7013</td>\n",
       "      <td>71.362080</td>\n",
       "      <td>{'neg': 0.082, 'neu': 0.803, 'pos': 0.115, 'co...</td>\n",
       "      <td>0.082</td>\n",
       "      <td>0.115</td>\n",
       "      <td>43.100769</td>\n",
       "      <td>30.023846</td>\n",
       "      <td>7.334931</td>\n",
       "      <td>6.726071</td>\n",
       "      <td>2007.0</td>\n",
       "      <td>-2.721052</td>\n",
       "      <td>[(0, '0.022*\"order\" + 0.022*\"method\" + 0.022*\"...</td>\n",
       "    </tr>\n",
       "  </tbody>\n",
       "</table>\n",
       "</div>"
      ],
      "text/plain": [
       "                                            abstract  \\\n",
       "0  This paper presents the design and implementat...   \n",
       "1  In this paper an approach to the performance a...   \n",
       "2  BitTorrent (BT) is currently the main P2P prot...   \n",
       "3  This paper describes an approach for mobile ro...   \n",
       "4  High-order neural networks can be considered a...   \n",
       "\n",
       "                                             authors  n_citation  \\\n",
       "0  ['Sergio R. Geninatti', 'José Ignacio Benavide...           0   \n",
       "1  ['Srđan Jovković', 'Stefan Panic', 'Mihajlo C....          50   \n",
       "2  ['Marios Iliofotou', 'Georgos Siganos', 'Xiaoy...          50   \n",
       "3  ['Friedrich Fraundorfer', 'Changchang Wu', 'Ma...           2   \n",
       "4  ['Yuxin Ding', 'Li Dong', 'Ling Wang', 'Guohua...           4   \n",
       "\n",
       "                                        references_x  \\\n",
       "0  ['6b19b1e6-81c5-4039-8a70-f3a2797f5447', '8823...   \n",
       "1  ['11a9d4ce-e21c-4f59-bf52-e2cc3b52de45', '3374...   \n",
       "2  ['1fbf5388-cffe-4abc-b809-c9119bf9f39c', '2cd1...   \n",
       "3  ['1c09ef91-f69a-43e4-aaa7-571f3a143ea9', '6c38...   \n",
       "4  ['0ebb0b84-824a-47c4-8daf-3ef005e1aafc', '1305...   \n",
       "\n",
       "                                               title  \\\n",
       "0  Concurrent calculations on reconfigurable logi...   \n",
       "1  Performance analysis of SSC diversity receiver...   \n",
       "2  Comparing BitTorrent clients in the wild: the ...   \n",
       "3  Methods for combined monocular and stereo mobi...   \n",
       "4  A high order neural network to solve crossbar ...   \n",
       "\n",
       "                                               venue  year  \\\n",
       "0  International Journal of Reconfigurable Computing  2010   \n",
       "1  Eurasip Journal on Wireless Communications and...  2010   \n",
       "2     international workshop on peer to peer systems  2010   \n",
       "3                                                NaN  2010   \n",
       "4  international conference on neural information...  2010   \n",
       "\n",
       "                                     id  mean_ref_year  max_ref_year  \\\n",
       "0  9cee0c22-b065-4e23-925d-68c1cfc75dbe    2002.250000          2004   \n",
       "1  a024dd21-83ad-4def-bfa5-8f714f502687    2005.000000          2010   \n",
       "2  791d78fe-cfeb-4fc8-8410-8fdab0951e29    2007.500000          2009   \n",
       "3  77b90a8e-eeba-4a1e-b080-003a37a3c33d    2004.600000          2010   \n",
       "4  fd872163-c207-4b9b-a1bb-fc5037c120e6    2005.230769          2009   \n",
       "\n",
       "   title_len  n_authors  n_references  ab_len  title_meta  title_review  \\\n",
       "0         13          4             4     107           0             0   \n",
       "1         17          5             8     109           0             0   \n",
       "2         11          4             8     189           0             0   \n",
       "3          9          3            10      75           0             0   \n",
       "4         10          4            13     118           0             0   \n",
       "\n",
       "   impact_1y  weighted_avg_ref_citations_y  \\\n",
       "0        671                     29.932365   \n",
       "1       7672                     80.818049   \n",
       "2        677                    293.019421   \n",
       "3          0                   4933.787892   \n",
       "4       7013                     71.362080   \n",
       "\n",
       "                                           sentiment  negative  positive  \\\n",
       "0  {'neg': 0.017, 'neu': 0.9, 'pos': 0.083, 'comp...     0.017     0.083   \n",
       "1  {'neg': 0.024, 'neu': 0.952, 'pos': 0.024, 'co...     0.024     0.024   \n",
       "2  {'neg': 0.0, 'neu': 0.927, 'pos': 0.073, 'comp...     0.000     0.073   \n",
       "3  {'neg': 0.018, 'neu': 0.897, 'pos': 0.085, 'co...     0.018     0.085   \n",
       "4  {'neg': 0.082, 'neu': 0.803, 'pos': 0.115, 'co...     0.082     0.115   \n",
       "\n",
       "   mean_BoW_Cos  mean_tfidf_Cos  sd_Bow_Cos  sd_tfidf_Cos  med_ref_year  \\\n",
       "0     43.820000       30.292500    5.062180      4.111864        2003.0   \n",
       "1     68.175000       56.155000   10.092957     11.248018        2005.0   \n",
       "2     54.667500       41.411250    7.329700      6.623011        2008.0   \n",
       "3     49.249000       37.096000   18.765906     22.574353        2007.5   \n",
       "4     43.100769       30.023846    7.334931      6.726071        2007.0   \n",
       "\n",
       "   skew_ref_year                                         LDA_topics  \n",
       "0      -1.719868  [(0, '0.016*\"similarities\" + 0.016*\"concurrent...  \n",
       "1       0.000000  [(0, '0.016*\"pdf\" + 0.016*\"keying\" + 0.016*\"sy...  \n",
       "2      -0.808122  [(0, '0.015*\"design\" + 0.014*\"understand\" + 0....  \n",
       "3      -2.501249  [(0, '0.029*\"stereo\" + 0.029*\"approach\" + 0.02...  \n",
       "4      -2.721052  [(0, '0.022*\"order\" + 0.022*\"method\" + 0.022*\"...  "
      ]
     },
     "execution_count": 6,
     "metadata": {},
     "output_type": "execute_result"
    }
   ],
   "source": [
    "df_main.head()"
   ]
  },
  {
   "cell_type": "markdown",
   "id": "4c3093e8",
   "metadata": {},
   "source": []
  },
  {
   "cell_type": "code",
   "execution_count": 3,
   "id": "d7b12f0c",
   "metadata": {},
   "outputs": [],
   "source": [
    "df_main.columns = ['index','abstract',\t'authors',\t'n_citation',\t'references_list',\n",
    "                   'title',\t'venue','year',\t'id','mean_ref_year','max_ref_year','title_len',\n",
    "                   'n_authors',\t'n_references',\t'ab_len',\t'title_meta',\t'title_review',\t'impact_1y',\n",
    "                   'BoW_Cos_mean',\t'BoW_Euc_mean',\t'BoW_Jac_mean',\t'tfidf_Cos_mean','tfidf_Euc_mean',\n",
    "                   'tfidf_Jac_mean', 'w2v_Cos_mean', 'BoW_Cos_max',\t'BoW_Euc_max', 'BoW_Jac_max',\t\n",
    "                   'tfidf_Cos_max',\t'tfidf_Euc_max', 'tfidf_Jac_max', 'w2v_Cos_max', 'BoW_Cos_min',\t\n",
    "                   'BoW_Euc_min', 'BoW_Jac_min', 'tfidf_Cos_min', 'tfidf_Euc_min',\t'tfidf_Jac_min', \n",
    "                   'w2v_Cos_min',\t'sum_w2v_Cos',\t'weighted_avg_ref_citations_y']"
   ]
  },
  {
   "cell_type": "code",
   "execution_count": 4,
   "id": "75a3e94d",
   "metadata": {},
   "outputs": [],
   "source": [
    "df_main.to_pickle(\"df_main4.pkl\")\n"
   ]
  },
  {
   "cell_type": "code",
   "execution_count": 4,
   "id": "66851912",
   "metadata": {},
   "outputs": [],
   "source": [
    "#1. Linear regression\n",
    "from sklearn.linear_model import LinearRegression\n",
    "Y = df_main['n_citation']\n",
    "X = df_main[['mean_ref_year','max_ref_year','title_len',\n",
    "                   'n_authors',\t'n_references',\t'ab_len',\t'title_meta',\t'title_review',\t'impact_1y',\n",
    "                   'BoW_Cos_mean',\t'BoW_Euc_mean',\t'BoW_Jac_mean',\t'tfidf_Cos_mean','tfidf_Euc_mean',\n",
    "                   'tfidf_Jac_mean', 'w2v_Cos_mean', 'BoW_Cos_max',\t'BoW_Euc_max', 'BoW_Jac_max',\t\n",
    "                   'tfidf_Cos_max',\t'tfidf_Euc_max', 'tfidf_Jac_max', 'w2v_Cos_max', 'BoW_Cos_min',\t\n",
    "                   'BoW_Euc_min', 'BoW_Jac_min', 'tfidf_Cos_min', 'tfidf_Euc_min',\t'tfidf_Jac_min', \n",
    "                   'w2v_Cos_min',\t'weighted_avg_ref_citations_y']]\n",
    "\n",
    "\n",
    "LR = LinearRegression()\n",
    "\n"
   ]
  },
  {
   "cell_type": "code",
   "execution_count": 5,
   "id": "d709773b",
   "metadata": {},
   "outputs": [],
   "source": [
    "import statsmodels.api as sm\n",
    "result = sm.OLS(Y, X.astype(float)).fit()\n"
   ]
  },
  {
   "cell_type": "code",
   "execution_count": 6,
   "id": "987095fa",
   "metadata": {},
   "outputs": [
    {
     "name": "stdout",
     "output_type": "stream",
     "text": [
      "                                 OLS Regression Results                                \n",
      "=======================================================================================\n",
      "Dep. Variable:             n_citation   R-squared (uncentered):                   0.150\n",
      "Model:                            OLS   Adj. R-squared (uncentered):              0.138\n",
      "Method:                 Least Squares   F-statistic:                              11.71\n",
      "Date:                Tue, 28 Jun 2022   Prob (F-statistic):                    5.35e-53\n",
      "Time:                        12:39:28   Log-Likelihood:                         -12172.\n",
      "No. Observations:                2080   AIC:                                  2.441e+04\n",
      "Df Residuals:                    2049   BIC:                                  2.458e+04\n",
      "Df Model:                          31                                                  \n",
      "Covariance Type:            nonrobust                                                  \n",
      "================================================================================================\n",
      "                                   coef    std err          t      P>|t|      [0.025      0.975]\n",
      "------------------------------------------------------------------------------------------------\n",
      "mean_ref_year                    1.2705      0.778      1.633      0.103      -0.255       2.797\n",
      "max_ref_year                    -1.1505      0.802     -1.434      0.152      -2.724       0.423\n",
      "title_len                       -0.3910      0.571     -0.685      0.494      -1.511       0.729\n",
      "n_authors                        1.3871      1.108      1.252      0.211      -0.786       3.560\n",
      "n_references                     1.9200      0.499      3.848      0.000       0.941       2.899\n",
      "ab_len                           0.1416      0.068      2.087      0.037       0.009       0.275\n",
      "title_meta                      -3.0894     24.814     -0.125      0.901     -51.752      45.573\n",
      "title_review                   -23.6323     85.025     -0.278      0.781    -190.376     143.112\n",
      "impact_1y                        0.0005      0.000      3.500      0.000       0.000       0.001\n",
      "BoW_Cos_mean                    -0.6349      3.857     -0.165      0.869      -8.198       6.928\n",
      "BoW_Euc_mean                     0.4400      1.936      0.227      0.820      -3.357       4.237\n",
      "BoW_Jac_mean                    -0.8162      0.691     -1.181      0.238      -2.172       0.540\n",
      "tfidf_Cos_mean                  -0.2258      7.325     -0.031      0.975     -14.592      14.140\n",
      "tfidf_Euc_mean                   1.2959      4.647      0.279      0.780      -7.818      10.410\n",
      "tfidf_Jac_mean                   4.3635     10.946      0.399      0.690     -17.102      25.829\n",
      "w2v_Cos_mean                     0.1778      3.035      0.059      0.953      -5.775       6.131\n",
      "BoW_Cos_max                      2.4558      2.097      1.171      0.242      -1.658       6.569\n",
      "BoW_Euc_max                     -0.5944      1.560     -0.381      0.703      -3.653       2.464\n",
      "BoW_Jac_max                      0.2781      0.424      0.657      0.512      -0.553       1.109\n",
      "tfidf_Cos_max                   -3.1203      3.136     -0.995      0.320      -9.270       3.030\n",
      "tfidf_Euc_max                    0.5720      1.609      0.356      0.722      -2.583       3.727\n",
      "tfidf_Jac_max                   -1.9094      7.423     -0.257      0.797     -16.466      12.647\n",
      "w2v_Cos_max                     -0.4586      2.637     -0.174      0.862      -5.631       4.714\n",
      "BoW_Cos_min                     -1.0005      2.065     -0.485      0.628      -5.050       3.049\n",
      "BoW_Euc_min                      0.0374      0.638      0.059      0.953      -1.214       1.289\n",
      "BoW_Jac_min                      0.4643      0.353      1.315      0.189      -0.228       1.156\n",
      "tfidf_Cos_min                    2.9338      5.063      0.580      0.562      -6.995      12.862\n",
      "tfidf_Euc_min                   -2.4334      3.886     -0.626      0.531     -10.054       5.187\n",
      "tfidf_Jac_min                   -5.1144      4.788     -1.068      0.286     -14.505       4.276\n",
      "w2v_Cos_min                      0.0685      0.663      0.103      0.918      -1.231       1.368\n",
      "weighted_avg_ref_citations_y     0.0005      0.001      0.467      0.641      -0.002       0.003\n",
      "==============================================================================\n",
      "Omnibus:                     5453.824   Durbin-Watson:                   2.016\n",
      "Prob(Omnibus):                  0.000   Jarque-Bera (JB):        108824763.585\n",
      "Skew:                          29.546   Prob(JB):                         0.00\n",
      "Kurtosis:                    1122.008   Cond. No.                     8.04e+05\n",
      "==============================================================================\n",
      "\n",
      "Notes:\n",
      "[1] R² is computed without centering (uncentered) since the model does not contain a constant.\n",
      "[2] Standard Errors assume that the covariance matrix of the errors is correctly specified.\n",
      "[3] The condition number is large, 8.04e+05. This might indicate that there are\n",
      "strong multicollinearity or other numerical problems.\n"
     ]
    }
   ],
   "source": [
    "print(result.summary())\n",
    "#vector_similarity, Number of authors significant"
   ]
  },
  {
   "cell_type": "code",
   "execution_count": 7,
   "id": "7b6ebd7f",
   "metadata": {},
   "outputs": [],
   "source": [
    "#2. Random Forest Regressor\n",
    "from sklearn.ensemble import RandomForestRegressor\n",
    "from sklearn.model_selection import train_test_split\n",
    "\n",
    "#not included : , 'title_len'"
   ]
  },
  {
   "cell_type": "markdown",
   "id": "59314bae",
   "metadata": {},
   "source": [
    "X_train, X_test, Y_train, Y_test = train_test_split(X, Y, test_size=0.5)\n",
    "\n",
    "regr = RandomForestRegressor(n_estimators=50)\n",
    "regr.fit(X_train,Y_train)\n",
    "\n",
    "y_pred=regr.predict(X_test)"
   ]
  },
  {
   "cell_type": "code",
   "execution_count": 9,
   "id": "4a4bab47",
   "metadata": {},
   "outputs": [
    {
     "name": "stdout",
     "output_type": "stream",
     "text": [
      "Mean Absolute Error: 31.149865384615385\n",
      "Mean Squared Error: 12387.579501923077\n",
      "Root Mean Squared Error: 111.29950360142257\n"
     ]
    }
   ],
   "source": [
    "from sklearn import metrics\n",
    "print('Mean Absolute Error:', metrics.mean_absolute_error(Y_test, y_pred)) \n",
    "print('Mean Squared Error:', metrics.mean_squared_error(Y_test, y_pred))\n",
    "print('Root Mean Squared Error:', np.sqrt(metrics.mean_squared_error(Y_test, y_pred)))"
   ]
  },
  {
   "cell_type": "code",
   "execution_count": 10,
   "id": "42064c54",
   "metadata": {},
   "outputs": [],
   "source": [
    "X_train, X_test, Y_train, Y_test = train_test_split(X, Y, test_size=0.5)\n",
    "\n",
    "regr = RandomForestRegressor(n_estimators=40)\n",
    "regr.fit(X_train,Y_train)\n",
    "\n",
    "y_pred=regr.predict(X_test)"
   ]
  },
  {
   "cell_type": "code",
   "execution_count": 11,
   "id": "23bce97e",
   "metadata": {},
   "outputs": [
    {
     "name": "stdout",
     "output_type": "stream",
     "text": [
      "Mean Absolute Error: 31.90161057692308\n",
      "Mean Squared Error: 5940.140210937499\n",
      "Root Mean Squared Error: 77.07230508384643\n",
      "R2 score : -3.39\n"
     ]
    }
   ],
   "source": [
    "from sklearn import metrics\n",
    "print('Mean Absolute Error:', metrics.mean_absolute_error(Y_test, y_pred)) \n",
    "print('Mean Squared Error:', metrics.mean_squared_error(Y_test, y_pred))\n",
    "print('Root Mean Squared Error:', np.sqrt(metrics.mean_squared_error(Y_test, y_pred)))\n",
    "print(\"R2 score : %.2f\" % metrics.r2_score(Y_test, y_pred))"
   ]
  },
  {
   "cell_type": "code",
   "execution_count": 12,
   "id": "38887999",
   "metadata": {},
   "outputs": [],
   "source": [
    "r2 = metrics.r2_score(Y_test, y_pred)"
   ]
  },
  {
   "cell_type": "code",
   "execution_count": 13,
   "id": "3f2e055a",
   "metadata": {},
   "outputs": [
    {
     "name": "stdout",
     "output_type": "stream",
     "text": [
      "-3.388666280173018\n"
     ]
    }
   ],
   "source": [
    "print(r2)"
   ]
  },
  {
   "cell_type": "code",
   "execution_count": 15,
   "id": "b49556f5",
   "metadata": {},
   "outputs": [],
   "source": [
    "import xgboost as xgb\n",
    "\n",
    "X_train, X_test, Y_train, Y_test = train_test_split(X, Y, test_size=0.5)\n"
   ]
  },
  {
   "cell_type": "code",
   "execution_count": 16,
   "id": "41b0f9c3",
   "metadata": {},
   "outputs": [],
   "source": [
    "regr = xgb.XGBRegressor()\n",
    "regr.fit(X_train,Y_train)\n",
    "y_pred=regr.predict(X_test)\n"
   ]
  },
  {
   "cell_type": "code",
   "execution_count": 17,
   "id": "fbd2ebe4",
   "metadata": {},
   "outputs": [
    {
     "name": "stdout",
     "output_type": "stream",
     "text": [
      "Mean Absolute Error: 30.998391753556923\n",
      "Mean Squared Error: 13061.994223476244\n",
      "Root Mean Squared Error: 114.28908182095192\n",
      "R2 score : 0.00\n"
     ]
    }
   ],
   "source": [
    "print('Mean Absolute Error:', metrics.mean_absolute_error(Y_test, y_pred)) \n",
    "print('Mean Squared Error:', metrics.mean_squared_error(Y_test, y_pred))\n",
    "print('Root Mean Squared Error:', np.sqrt(metrics.mean_squared_error(Y_test, y_pred)))\n",
    "print(\"R2 score : %.2f\" % metrics.r2_score(Y_test, y_pred))"
   ]
  },
  {
   "cell_type": "code",
   "execution_count": 18,
   "id": "e4139949",
   "metadata": {},
   "outputs": [],
   "source": [
    "import lightgbm as lgb\n"
   ]
  },
  {
   "cell_type": "code",
   "execution_count": null,
   "id": "17e27150",
   "metadata": {},
   "outputs": [],
   "source": [
    "model = lgb.LGBMClassifier(learning_rate=0.09,max_depth=-5,random_state=42)\n",
    "model.fit(X_train,Y_train)"
   ]
  },
  {
   "cell_type": "code",
   "execution_count": null,
   "id": "c182f3a2",
   "metadata": {},
   "outputs": [],
   "source": [
    "y_pred=model.predict(X_test)"
   ]
  },
  {
   "cell_type": "code",
   "execution_count": null,
   "id": "f765c431",
   "metadata": {},
   "outputs": [],
   "source": [
    "print('Mean Absolute Error:', metrics.mean_absolute_error(Y_test, y_pred)) \n",
    "print('Mean Squared Error:', metrics.mean_squared_error(Y_test, y_pred))\n",
    "print('Root Mean Squared Error:', np.sqrt(metrics.mean_squared_error(Y_test, y_pred)))\n",
    "print(\"R2 score : %.2f\" % metrics.r2_score(Y_test, y_pred))"
   ]
  }
 ],
 "metadata": {
  "kernelspec": {
   "display_name": "Python 3 (ipykernel)",
   "language": "python",
   "name": "python3"
  },
  "language_info": {
   "codemirror_mode": {
    "name": "ipython",
    "version": 3
   },
   "file_extension": ".py",
   "mimetype": "text/x-python",
   "name": "python",
   "nbconvert_exporter": "python",
   "pygments_lexer": "ipython3",
   "version": "3.9.12"
  }
 },
 "nbformat": 4,
 "nbformat_minor": 5
}
